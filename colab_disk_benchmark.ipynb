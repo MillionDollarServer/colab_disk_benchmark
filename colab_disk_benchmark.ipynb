{
  "cells": [
    {
      "cell_type": "markdown",
      "metadata": {
        "id": "view-in-github",
        "colab_type": "text"
      },
      "source": [
        "<a href=\"https://colab.research.google.com/github/MillionDollarServer/colab_disk_benchmark/blob/main/colab_disk_benchmark.ipynb\" target=\"_parent\"><img src=\"https://colab.research.google.com/assets/colab-badge.svg\" alt=\"Open In Colab\"/></a>"
      ]
    },
    {
      "cell_type": "markdown",
      "metadata": {
        "id": "47kV9o1Ni8GH"
      },
      "source": [
        "# **Notebook From https://github.com/MillionDollarServer/colab_disk_benchmark"
      ]
    },
    {
      "cell_type": "code",
      "execution_count": null,
      "metadata": {
        "id": "Y9EBc437WDOs",
        "colab": {
          "base_uri": "https://localhost:8080/",
          "height": 49,
          "referenced_widgets": [
            "f2b25f3db96744d99f36271e5bb88efb",
            "18d122174a454f0bb6c11cadb44cfd08",
            "0129896e05054d1aa3c0b64b6eb2fcc6"
          ]
        },
        "outputId": "b17e102f-325b-4286-e8c7-71940daf22f6",
        "cellView": "form"
      },
      "outputs": [
        {
          "output_type": "display_data",
          "data": {
            "text/plain": [
              "Button(button_style='success', description='✔ Done', disabled=True, layout=Layout(min_width='50px'), style=But…"
            ],
            "application/vnd.jupyter.widget-view+json": {
              "version_major": 2,
              "version_minor": 0,
              "model_id": "f2b25f3db96744d99f36271e5bb88efb"
            }
          },
          "metadata": {}
        }
      ],
      "source": [
        "#@markdown # Connect Google Drive\n",
        "from google.colab import drive\n",
        "from IPython.display import clear_output\n",
        "import ipywidgets as widgets\n",
        "import os\n",
        "\n",
        "def inf(msg, style, wdth): inf = widgets.Button(description=msg, disabled=True, button_style=style, layout=widgets.Layout(min_width=wdth));display(inf)\n",
        "\n",
        "print(\"[0;33mConnecting...\")\n",
        "drive.mount('/content/gdrive')\n",
        "\n",
        "mainpth=\"MyDrive\"\n",
        "\n",
        "clear_output()\n",
        "inf('\\u2714 Done','success', '50px')"
      ]
    },
    {
      "cell_type": "code",
      "source": [
        "#@markdown # Measure Google Drive disk speed\n",
        "import ipywidgets as widgets\n",
        "import time, os, sys\n",
        "\n",
        "def inf(msg, style, wdth): inf = widgets.Button(description=msg, disabled=True, button_style=style, layout=widgets.Layout(min_width=wdth));display(inf)\n",
        "\n",
        "def writetofile(filename,mysizeMB):\n",
        "\t# writes string to specified file repeatdely, until mysizeMB is reached. Then deletes fle \n",
        "\tmystring = \"The Million Dollar Server\"\n",
        "\twriteloops = int(1000000*mysizeMB/len(mystring))\n",
        "\ttry:\n",
        "\t\tf = open(filename, 'w')\n",
        "\texcept:\n",
        "\t\t# no better idea than:\n",
        "\t\traise\n",
        "\tfor x in range(0, writeloops):\n",
        "\t\tf.write(mystring)\n",
        "\tf.close()\n",
        "\tos.remove(filename)\n",
        "\n",
        "############## \n",
        "\n",
        "def diskspeedmeasure(dirname):\n",
        "\t# returns writing speed to dirname in MB/s\n",
        "\t# method: keep writing a file, until 0.5 seconds is passed. Then divide bytes written by time passed\n",
        "\tfilesize = 1\t# in MB\n",
        "\tmaxtime = 0.5 \t# in sec\n",
        "\tfilename = os.path.join(dirname,'outputTESTING.txt')\n",
        "\tstart = time.time()\n",
        "\tloopcounter = 0\n",
        "\twhile True:\n",
        "\t\ttry:\n",
        "\t\t\twritetofile(filename, filesize)\n",
        "\t\texcept:\n",
        "\t\t\t# I have no better idea than:\n",
        "\t\t\traise\t\n",
        "\t\tloopcounter += 1\n",
        "\t\tdiff = time.time() - start\n",
        "\t\tif diff > maxtime: break\n",
        "\treturn (loopcounter*filesize)/diff\n",
        "\n",
        "if not os.path.exists(\"/content/gdrive\"):\n",
        "  print('\u001b[1;31mGdrive not connected, die')\n",
        "else:\n",
        "  dirname = '/content/gdrive/MyDrive/disk_speed'\n",
        "  !mkdir -p /content/gdrive/MyDrive/disk_speed\n",
        "  print(\"Using working directory: \" + dirname)\n",
        "  speed = diskspeedmeasure(dirname)\n",
        "  print(\"Disk writing speed: %.2f Mbytes per second\" % speed)\n",
        "  inf('\\u2714 Done','success', '50px')\n"
      ],
      "metadata": {
        "colab": {
          "base_uri": "https://localhost:8080/",
          "height": 84,
          "referenced_widgets": [
            "149c2e0576ed4c3ba785fe3c3ef4b2b7",
            "610aa9497bc44e74a761980ba9c48dc3",
            "3a5c978f88b44b0ba2b269661eb9111e"
          ]
        },
        "id": "aTXQVGS-EtOH",
        "outputId": "55bc2d2d-5703-462e-d041-790eda3d4d81",
        "cellView": "form"
      },
      "execution_count": null,
      "outputs": [
        {
          "output_type": "stream",
          "name": "stdout",
          "text": [
            "Using working directory: /content/gdrive/MyDrive/disk_speed\n",
            "Disk writing speed: 64.27 Mbytes per second\n"
          ]
        },
        {
          "output_type": "display_data",
          "data": {
            "text/plain": [
              "Button(button_style='success', description='✔ Done', disabled=True, layout=Layout(min_width='50px'), style=But…"
            ],
            "application/vnd.jupyter.widget-view+json": {
              "version_major": 2,
              "version_minor": 0,
              "model_id": "149c2e0576ed4c3ba785fe3c3ef4b2b7"
            }
          },
          "metadata": {}
        }
      ]
    },
    {
      "cell_type": "code",
      "source": [
        "#@markdown # Measure colab storage disk speed\n",
        "import ipywidgets as widgets\n",
        "import time, os, sys\n",
        "\n",
        "def inf(msg, style, wdth): inf = widgets.Button(description=msg, disabled=True, button_style=style, layout=widgets.Layout(min_width=wdth));display(inf)\n",
        "\n",
        "def writetofile(filename,mysizeMB):\n",
        "\t# writes string to specified file repeatdely, until mysizeMB is reached. Then deletes fle \n",
        "\tmystring = \"The Million Dollar Server\"\n",
        "\twriteloops = int(1000000*mysizeMB/len(mystring))\n",
        "\ttry:\n",
        "\t\tf = open(filename, 'w')\n",
        "\texcept:\n",
        "\t\t# no better idea than:\n",
        "\t\traise\n",
        "\tfor x in range(0, writeloops):\n",
        "\t\tf.write(mystring)\n",
        "\tf.close()\n",
        "\tos.remove(filename)\n",
        "\n",
        "############## \n",
        "\n",
        "def diskspeedmeasure(dirname):\n",
        "\t# returns writing speed to dirname in MB/s\n",
        "\t# method: keep writing a file, until 0.5 seconds is passed. Then divide bytes written by time passed\n",
        "\tfilesize = 1\t# in MB\n",
        "\tmaxtime = 0.5 \t# in sec\n",
        "\tfilename = os.path.join(dirname,'outputTESTING.txt')\n",
        "\tstart = time.time()\n",
        "\tloopcounter = 0\n",
        "\twhile True:\n",
        "\t\ttry:\n",
        "\t\t\twritetofile(filename, filesize)\n",
        "\t\texcept:\n",
        "\t\t\t# I have no better idea than:\n",
        "\t\t\traise\t\n",
        "\t\tloopcounter += 1\n",
        "\t\tdiff = time.time() - start\n",
        "\t\tif diff > maxtime: break\n",
        "\treturn (loopcounter*filesize)/diff\n",
        "\n",
        "dirname = '/content/disk_speed'\n",
        "!mkdir -p $dirname\n",
        "print(\"Using working directory: \" + dirname)\n",
        "speed = diskspeedmeasure(dirname)\n",
        "print(\"Disk writing speed: %.2f Mbytes per second\" % speed)\n",
        "inf('\\u2714 Done','success', '50px')\n"
      ],
      "metadata": {
        "colab": {
          "base_uri": "https://localhost:8080/",
          "height": 84,
          "referenced_widgets": [
            "5728b42388ca4268bf601561ee0801bd",
            "53b9b9cbabd44e8abe7a6ceb01fc7dd6",
            "ee73c6d9e62c4deb97fc95b668158ebe"
          ]
        },
        "id": "m4My8XhzCDGs",
        "outputId": "2854869b-fabc-479e-dd3e-4d0496ad3dcd",
        "cellView": "form"
      },
      "execution_count": null,
      "outputs": [
        {
          "output_type": "stream",
          "name": "stdout",
          "text": [
            "Using working directory: /content/disk_speed\n",
            "Disk writing speed: 191.76 Mbytes per second\n"
          ]
        },
        {
          "output_type": "display_data",
          "data": {
            "text/plain": [
              "Button(button_style='success', description='✔ Done', disabled=True, layout=Layout(min_width='50px'), style=But…"
            ],
            "application/vnd.jupyter.widget-view+json": {
              "version_major": 2,
              "version_minor": 0,
              "model_id": "5728b42388ca4268bf601561ee0801bd"
            }
          },
          "metadata": {}
        }
      ]
    }
  ],
  "metadata": {
    "accelerator": "GPU",
    "colab": {
      "provenance": [],
      "include_colab_link": true
    },
    "gpuClass": "standard",
    "kernelspec": {
      "display_name": "Python 3",
      "name": "python3"
    },
    "language_info": {
      "name": "python"
    },
    "widgets": {
      "application/vnd.jupyter.widget-state+json": {
        "f2b25f3db96744d99f36271e5bb88efb": {
          "model_module": "@jupyter-widgets/controls",
          "model_name": "ButtonModel",
          "model_module_version": "1.5.0",
          "state": {
            "_dom_classes": [],
            "_model_module": "@jupyter-widgets/controls",
            "_model_module_version": "1.5.0",
            "_model_name": "ButtonModel",
            "_view_count": null,
            "_view_module": "@jupyter-widgets/controls",
            "_view_module_version": "1.5.0",
            "_view_name": "ButtonView",
            "button_style": "success",
            "description": "✔ Done",
            "disabled": true,
            "icon": "",
            "layout": "IPY_MODEL_18d122174a454f0bb6c11cadb44cfd08",
            "style": "IPY_MODEL_0129896e05054d1aa3c0b64b6eb2fcc6",
            "tooltip": ""
          }
        },
        "18d122174a454f0bb6c11cadb44cfd08": {
          "model_module": "@jupyter-widgets/base",
          "model_name": "LayoutModel",
          "model_module_version": "1.2.0",
          "state": {
            "_model_module": "@jupyter-widgets/base",
            "_model_module_version": "1.2.0",
            "_model_name": "LayoutModel",
            "_view_count": null,
            "_view_module": "@jupyter-widgets/base",
            "_view_module_version": "1.2.0",
            "_view_name": "LayoutView",
            "align_content": null,
            "align_items": null,
            "align_self": null,
            "border": null,
            "bottom": null,
            "display": null,
            "flex": null,
            "flex_flow": null,
            "grid_area": null,
            "grid_auto_columns": null,
            "grid_auto_flow": null,
            "grid_auto_rows": null,
            "grid_column": null,
            "grid_gap": null,
            "grid_row": null,
            "grid_template_areas": null,
            "grid_template_columns": null,
            "grid_template_rows": null,
            "height": null,
            "justify_content": null,
            "justify_items": null,
            "left": null,
            "margin": null,
            "max_height": null,
            "max_width": null,
            "min_height": null,
            "min_width": "50px",
            "object_fit": null,
            "object_position": null,
            "order": null,
            "overflow": null,
            "overflow_x": null,
            "overflow_y": null,
            "padding": null,
            "right": null,
            "top": null,
            "visibility": null,
            "width": null
          }
        },
        "0129896e05054d1aa3c0b64b6eb2fcc6": {
          "model_module": "@jupyter-widgets/controls",
          "model_name": "ButtonStyleModel",
          "model_module_version": "1.5.0",
          "state": {
            "_model_module": "@jupyter-widgets/controls",
            "_model_module_version": "1.5.0",
            "_model_name": "ButtonStyleModel",
            "_view_count": null,
            "_view_module": "@jupyter-widgets/base",
            "_view_module_version": "1.2.0",
            "_view_name": "StyleView",
            "button_color": null,
            "font_weight": ""
          }
        },
        "149c2e0576ed4c3ba785fe3c3ef4b2b7": {
          "model_module": "@jupyter-widgets/controls",
          "model_name": "ButtonModel",
          "model_module_version": "1.5.0",
          "state": {
            "_dom_classes": [],
            "_model_module": "@jupyter-widgets/controls",
            "_model_module_version": "1.5.0",
            "_model_name": "ButtonModel",
            "_view_count": null,
            "_view_module": "@jupyter-widgets/controls",
            "_view_module_version": "1.5.0",
            "_view_name": "ButtonView",
            "button_style": "success",
            "description": "✔ Done",
            "disabled": true,
            "icon": "",
            "layout": "IPY_MODEL_610aa9497bc44e74a761980ba9c48dc3",
            "style": "IPY_MODEL_3a5c978f88b44b0ba2b269661eb9111e",
            "tooltip": ""
          }
        },
        "610aa9497bc44e74a761980ba9c48dc3": {
          "model_module": "@jupyter-widgets/base",
          "model_name": "LayoutModel",
          "model_module_version": "1.2.0",
          "state": {
            "_model_module": "@jupyter-widgets/base",
            "_model_module_version": "1.2.0",
            "_model_name": "LayoutModel",
            "_view_count": null,
            "_view_module": "@jupyter-widgets/base",
            "_view_module_version": "1.2.0",
            "_view_name": "LayoutView",
            "align_content": null,
            "align_items": null,
            "align_self": null,
            "border": null,
            "bottom": null,
            "display": null,
            "flex": null,
            "flex_flow": null,
            "grid_area": null,
            "grid_auto_columns": null,
            "grid_auto_flow": null,
            "grid_auto_rows": null,
            "grid_column": null,
            "grid_gap": null,
            "grid_row": null,
            "grid_template_areas": null,
            "grid_template_columns": null,
            "grid_template_rows": null,
            "height": null,
            "justify_content": null,
            "justify_items": null,
            "left": null,
            "margin": null,
            "max_height": null,
            "max_width": null,
            "min_height": null,
            "min_width": "50px",
            "object_fit": null,
            "object_position": null,
            "order": null,
            "overflow": null,
            "overflow_x": null,
            "overflow_y": null,
            "padding": null,
            "right": null,
            "top": null,
            "visibility": null,
            "width": null
          }
        },
        "3a5c978f88b44b0ba2b269661eb9111e": {
          "model_module": "@jupyter-widgets/controls",
          "model_name": "ButtonStyleModel",
          "model_module_version": "1.5.0",
          "state": {
            "_model_module": "@jupyter-widgets/controls",
            "_model_module_version": "1.5.0",
            "_model_name": "ButtonStyleModel",
            "_view_count": null,
            "_view_module": "@jupyter-widgets/base",
            "_view_module_version": "1.2.0",
            "_view_name": "StyleView",
            "button_color": null,
            "font_weight": ""
          }
        },
        "5728b42388ca4268bf601561ee0801bd": {
          "model_module": "@jupyter-widgets/controls",
          "model_name": "ButtonModel",
          "model_module_version": "1.5.0",
          "state": {
            "_dom_classes": [],
            "_model_module": "@jupyter-widgets/controls",
            "_model_module_version": "1.5.0",
            "_model_name": "ButtonModel",
            "_view_count": null,
            "_view_module": "@jupyter-widgets/controls",
            "_view_module_version": "1.5.0",
            "_view_name": "ButtonView",
            "button_style": "success",
            "description": "✔ Done",
            "disabled": true,
            "icon": "",
            "layout": "IPY_MODEL_53b9b9cbabd44e8abe7a6ceb01fc7dd6",
            "style": "IPY_MODEL_ee73c6d9e62c4deb97fc95b668158ebe",
            "tooltip": ""
          }
        },
        "53b9b9cbabd44e8abe7a6ceb01fc7dd6": {
          "model_module": "@jupyter-widgets/base",
          "model_name": "LayoutModel",
          "model_module_version": "1.2.0",
          "state": {
            "_model_module": "@jupyter-widgets/base",
            "_model_module_version": "1.2.0",
            "_model_name": "LayoutModel",
            "_view_count": null,
            "_view_module": "@jupyter-widgets/base",
            "_view_module_version": "1.2.0",
            "_view_name": "LayoutView",
            "align_content": null,
            "align_items": null,
            "align_self": null,
            "border": null,
            "bottom": null,
            "display": null,
            "flex": null,
            "flex_flow": null,
            "grid_area": null,
            "grid_auto_columns": null,
            "grid_auto_flow": null,
            "grid_auto_rows": null,
            "grid_column": null,
            "grid_gap": null,
            "grid_row": null,
            "grid_template_areas": null,
            "grid_template_columns": null,
            "grid_template_rows": null,
            "height": null,
            "justify_content": null,
            "justify_items": null,
            "left": null,
            "margin": null,
            "max_height": null,
            "max_width": null,
            "min_height": null,
            "min_width": "50px",
            "object_fit": null,
            "object_position": null,
            "order": null,
            "overflow": null,
            "overflow_x": null,
            "overflow_y": null,
            "padding": null,
            "right": null,
            "top": null,
            "visibility": null,
            "width": null
          }
        },
        "ee73c6d9e62c4deb97fc95b668158ebe": {
          "model_module": "@jupyter-widgets/controls",
          "model_name": "ButtonStyleModel",
          "model_module_version": "1.5.0",
          "state": {
            "_model_module": "@jupyter-widgets/controls",
            "_model_module_version": "1.5.0",
            "_model_name": "ButtonStyleModel",
            "_view_count": null,
            "_view_module": "@jupyter-widgets/base",
            "_view_module_version": "1.2.0",
            "_view_name": "StyleView",
            "button_color": null,
            "font_weight": ""
          }
        }
      }
    }
  },
  "nbformat": 4,
  "nbformat_minor": 0
}